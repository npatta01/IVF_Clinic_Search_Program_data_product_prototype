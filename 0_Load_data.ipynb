{
 "cells": [
  {
   "cell_type": "code",
   "execution_count": 8,
   "metadata": {
    "ExecuteTime": {
     "end_time": "2019-08-07T21:01:42.303921Z",
     "start_time": "2019-08-07T21:01:42.300998Z"
    }
   },
   "outputs": [],
   "source": [
    "# Load latest IVF Clinic file\n",
    "import numpy as np\n",
    "import pandas as pd"
   ]
  },
  {
   "cell_type": "code",
   "execution_count": 11,
   "metadata": {
    "ExecuteTime": {
     "end_time": "2019-08-07T21:02:19.620205Z",
     "start_time": "2019-08-07T21:02:18.924712Z"
    }
   },
   "outputs": [
    {
     "name": "stdout",
     "output_type": "stream",
     "text": [
      "shape (448, 164)\n"
     ]
    },
    {
     "data": {
      "text/html": [
       "<div>\n",
       "<style scoped>\n",
       "    .dataframe tbody tr th:only-of-type {\n",
       "        vertical-align: middle;\n",
       "    }\n",
       "\n",
       "    .dataframe tbody tr th {\n",
       "        vertical-align: top;\n",
       "    }\n",
       "\n",
       "    .dataframe thead th {\n",
       "        text-align: right;\n",
       "    }\n",
       "</style>\n",
       "<table border=\"1\" class=\"dataframe\">\n",
       "  <thead>\n",
       "    <tr style=\"text-align: right;\">\n",
       "      <th></th>\n",
       "      <th>CurrentClinicName1</th>\n",
       "      <th>CurrentClinicCity</th>\n",
       "      <th>CurrentClinicState</th>\n",
       "      <th>TotNumCycles1</th>\n",
       "      <th>TotNumCycles2</th>\n",
       "    </tr>\n",
       "  </thead>\n",
       "  <tbody>\n",
       "    <tr>\n",
       "      <th>0</th>\n",
       "      <td>ALABAMA FERTILITY SPECIALISTS</td>\n",
       "      <td>BIRMINGHAM</td>\n",
       "      <td>ALABAMA</td>\n",
       "      <td>58</td>\n",
       "      <td>19</td>\n",
       "    </tr>\n",
       "    <tr>\n",
       "      <th>1</th>\n",
       "      <td>ART FERTILITY PROGRAM OF ALABAMA</td>\n",
       "      <td>BIRMINGHAM</td>\n",
       "      <td>ALABAMA</td>\n",
       "      <td>208</td>\n",
       "      <td>104</td>\n",
       "    </tr>\n",
       "  </tbody>\n",
       "</table>\n",
       "</div>"
      ],
      "text/plain": [
       "                 CurrentClinicName1 CurrentClinicCity CurrentClinicState  \\\n",
       "0     ALABAMA FERTILITY SPECIALISTS        BIRMINGHAM            ALABAMA   \n",
       "1  ART FERTILITY PROGRAM OF ALABAMA        BIRMINGHAM            ALABAMA   \n",
       "\n",
       "  TotNumCycles1 TotNumCycles2  \n",
       "0            58            19  \n",
       "1           208           104  "
      ]
     },
     "execution_count": 11,
     "metadata": {},
     "output_type": "execute_result"
    }
   ],
   "source": [
    "df = pd.read_excel('FINAL-2017-Clinic-Table-Dataset.xlsx', sheet_name='Clinic Table Data Records')\n",
    "print('shape', df.shape)\n",
    "df = df[['CurrentClinicName1', 'CurrentClinicCity', 'CurrentClinicState', 'TotNumCycles1', 'TotNumCycles2']]\n",
    "df.head(2)\n"
   ]
  },
  {
   "cell_type": "code",
   "execution_count": 12,
   "metadata": {
    "ExecuteTime": {
     "end_time": "2019-08-07T21:02:30.021557Z",
     "start_time": "2019-08-07T21:02:30.014060Z"
    }
   },
   "outputs": [],
   "source": [
    "df.to_csv('clinics.csv', index=False)"
   ]
  },
  {
   "cell_type": "markdown",
   "metadata": {},
   "source": [
    "Go to app.py"
   ]
  }
 ],
 "metadata": {
  "kernelspec": {
   "display_name": "Python 3",
   "language": "python",
   "name": "python3"
  },
  "language_info": {
   "codemirror_mode": {
    "name": "ipython",
    "version": 3
   },
   "file_extension": ".py",
   "mimetype": "text/x-python",
   "name": "python",
   "nbconvert_exporter": "python",
   "pygments_lexer": "ipython3",
   "version": "3.6.7"
  }
 },
 "nbformat": 4,
 "nbformat_minor": 2
}
